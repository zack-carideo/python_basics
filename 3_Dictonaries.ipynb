{
 "cells": [
  {
   "cell_type": "markdown",
   "metadata": {},
   "source": [
    "### Data Import \n",
    "\n",
    "* 1.Load Pandas DataFrame from csv\n",
    "* 2.Create 1-D lists from a subset of columns in Dataframe\n",
    "* 3.Create Dictonary from a series of lists\n",
    "* 4.Convert Dictonary of Information back into a Pandas Dataframe\n",
    "* 5.Create an index of row labels using the column from original dataset with country abbreviations "
   ]
  },
  {
   "cell_type": "markdown",
   "metadata": {},
   "source": [
    "### Create Dictonary from Pandas Dataframe\n",
    "* The DataFrame is one of Pandas' most important data structures. It's basically a way to store tabular data where you can label the rows and the columns. One way to build a DataFrame is from a dictionary."
   ]
  },
  {
   "cell_type": "code",
   "execution_count": 24,
   "metadata": {},
   "outputs": [
    {
     "name": "stdout",
     "output_type": "stream",
     "text": [
      "(234, 234, 234)\n"
     ]
    }
   ],
   "source": [
    "#Load Dataframe(Pandas Dataframe) using the first column(0) as the row labels \n",
    "import pandas as pd\n",
    "df = pd.read_csv('/home/docadmin/ZackC/Python Misc/Data/PpopulationData.csv', delimiter=',') #, index_col = 0 \n",
    "\n",
    "#Create a list for each variable we want to process\n",
    "Country = df['Economy'].tolist()\n",
    "Population = df['TotalPop(Thousands)'].tolist()\n",
    "Rank = df['Ranking'].tolist()\n",
    "\n",
    "#check length of each list \n",
    "print(len(Country),len(Population),len(Rank))\n",
    "\n",
    "#Create dictionary with three key:value pairs: my_dict\n",
    "Dictonary = { 'Country':Country, 'Population':Population, 'Rank':Rank }\n",
    "\n",
    "#Convert the Dictonary into a dataframe from the list\n",
    "CountryInfo = pd.DataFrame(Dictonary)\n",
    "\n",
    "#set row index's for each element in list \n",
    "CountryInfo.index = [df['Country ']]\n",
    "#print output\n",
    "#print(Dictonary)\n",
    "#print(CountryInfo)"
   ]
  },
  {
   "cell_type": "markdown",
   "metadata": {},
   "source": [
    "### Basic Dictonary Navigation "
   ]
  },
  {
   "cell_type": "code",
   "execution_count": 6,
   "metadata": {},
   "outputs": [
    {
     "name": "stdout",
     "output_type": "stream",
     "text": [
      "True\n",
      "{'italy': 'rome', 'poland': 'warsaw', 'france': 'paris', 'germany': 'berlin', 'norway': 'oslo', 'spain': 'madrid'}\n"
     ]
    }
   ],
   "source": [
    "# Definition of dictionary\n",
    "europe = {'spain':'madrid', 'france':'paris', 'germany':'bonn',\n",
    "          'norway':'oslo', 'italy':'dafd','australia':'vienna' }\n",
    "\n",
    "# Print out the keys in europe\n",
    "print(europe.keys())\n",
    "\n",
    "# Print out value that belongs to key 'norway'\n",
    "print(europe['italy'])\n",
    "\n",
    "# Add italy to europe\n",
    "europe['italy'] = 'rome'\n",
    "\n",
    "# Print out italy in europe (logical, if italy is in the dictonary, True is returned)\n",
    "print('italy' in europe)\n",
    "\n",
    "# Add poland to europe\n",
    "europe['poland'] = 'warsaw'\n",
    "\n",
    "# Update capital of germany\n",
    "europe['germany'] = 'berlin'\n",
    "\n",
    "# Remove australia\n",
    "del(europe['australia'])\n",
    "\n",
    "# Print europe\n",
    "print(europe)"
   ]
  },
  {
   "cell_type": "markdown",
   "metadata": {},
   "source": [
    "### Dictionariception \n",
    "#### Dictionaries can contain key:value pairs where the values are again dictionaries."
   ]
  },
  {
   "cell_type": "code",
   "execution_count": 8,
   "metadata": {},
   "outputs": [
    {
     "name": "stdout",
     "output_type": "stream",
     "text": [
      "paris\n",
      "{'norway': {'population': 5.084, 'capital': 'oslo'}, 'italy': {'population': 59.83, 'capital': 'rome'}, 'germany': {'population': 80.62, 'capital': 'berlin'}, 'spain': {'population': 46.77, 'capital': 'madrid'}, 'france': {'population': 66.03, 'capital': 'paris'}}\n"
     ]
    }
   ],
   "source": [
    "#in the below dictonary The keys are still the country names\n",
    "#but the values are dictionaries that contain more information than just the capital.\n",
    "europe = { 'spain': { 'capital':'madrid', 'population':46.77 },\n",
    "           'france': { 'capital':'paris', 'population':66.03 },\n",
    "           'germany': { 'capital':'berlin', 'population':80.62 },\n",
    "           'norway': { 'capital':'oslo', 'population':5.084 } }\n",
    "\n",
    "# Print out the capital of France\n",
    "print(europe['france']['capital'])\n",
    "\n",
    "# Create sub-dictionary data (to later include in larger dictonary)\n",
    "data = { 'capital':'rome', 'population':59.83 }\n",
    "\n",
    "# Add data to europe under key 'italy' (adding new primary key, and assigning the values associated with the sub-dictonary)\n",
    "europe['italy'] = data\n",
    "\n",
    "#view results \n",
    "print(europe)"
   ]
  }
 ],
 "metadata": {
  "kernelspec": {
   "display_name": "python3",
   "language": "python",
   "name": "python3"
  },
  "language_info": {
   "codemirror_mode": {
    "name": "ipython",
    "version": 2
   },
   "file_extension": ".py",
   "mimetype": "text/x-python",
   "name": "python",
   "nbconvert_exporter": "python",
   "pygments_lexer": "ipython2",
   "version": "2.7.12"
  }
 },
 "nbformat": 4,
 "nbformat_minor": 2
}
